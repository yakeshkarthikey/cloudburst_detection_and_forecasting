{
 "cells": [
  {
   "cell_type": "markdown",
   "metadata": {},
   "source": [
    "importing modules"
   ]
  },
  {
   "cell_type": "code",
   "execution_count": 46,
   "metadata": {},
   "outputs": [
    {
     "name": "stdout",
     "output_type": "stream",
     "text": [
      "data (39869, 23)\n"
     ]
    }
   ],
   "source": [
    "import pandas as pd \n",
    "pd.set_option('display.max_rows', None)\n",
    "pd.set_option('display.max_columns', None)\n",
    "pd.set_option('display.width', 2000)\n",
    "pd.set_option('display.float_format', '{:20,.2f}'.format)\n",
    "pd.set_option('display.max_colwidth', None)\n",
    "\n",
    "data  = pd.read_csv('data.csv')\n",
    "df = pd.DataFrame(data)\n",
    "df.dropna(inplace=True)\n",
    "print(\"data\",df.shape)\n",
    "\n"
   ]
  },
  {
   "cell_type": "markdown",
   "metadata": {},
   "source": [
    "//CloudBurst probability distribution\n",
    "\n",
    "Calculate the mean (μ) of the daily rainfall data:\n",
    "\n",
    "μ = (0.5 + 0.2 + 0.0 + ... + 0.0 + 0.8 + 0.6) / 31 = 7.1 / 31 ≈ 0.229 mm\n",
    "Now, calculate the rate parameter (λ):\n",
    "\n",
    "λ = 1 / μ ≈ 1 / 0.229 ≈ 4.366 day^(-1)\n",
    "\n",
    "f(x) = λ * e^(-λx), for x >= 0\n",
    "\n",
    "\n",
    "Where:\n",
    "\n",
    "f(x) is the probability density at value x.\n",
    "λ is the rate parameter (4.366 day^(-1) in our case).\n",
    "e is the base of the natural logarithm.\n",
    "\n",
    "\n",
    "Step 5: Probability Calculation\n",
    "Now, you can calculate the probability of specific rainfall events. For example, let's calculate the probability of having a daily rainfall of at least 0.5 mm:\n",
    "\n",
    "P(X >= 0.5) = ∫[0.5, ∞] λ * e^(-λx) dx\n",
    "\n",
    "To calculate the probability of having a daily rainfall of at least 0.5 mm using the exponential distribution with a rate parameter of λ ≈ 4.366 day^(-1), we'll integrate the probability density function (PDF) from 0.5 to infinity:\n",
    "\n",
    "P(X >= 0.5) = ∫[0.5, ∞] λ * e^(-λx) dx\n",
    "\n",
    "CDF(x) = 1 - e^(-λx)\n",
    "\n",
    "Now, we'll calculate P(X >= 0.5) using the CDF:\n",
    "\n",
    "            ≈ 0.112\n",
    "So, the probability of having a daily rainfall of at least 0.5 mm, based on the exponential distribution with the estimated rate parameter, is approximately 0.112 or 11.2%.\n",
    "\n",
    "This means that there is an approximately 11.2% chance of experiencing a daily rainfall of 0.5 mm or more based on the given data and the exponential distribution assumption.\n",
    "\n",
    "\n",
    "\n",
    "\n",
    "'''A systematic analysis to predict cloudburst'''\n",
    "'''\n",
    "Factors:\n",
    "\n",
    "1.)Rainfall Rate                                2.5 to 7.6mm                                                       100 to 300 mm\n",
    "2.)Temperature                               25 to 35 C                                                             Reduced Drastically\n",
    "3.)Humidity                                     80% to 90%                                                           More than 100%\n",
    "4.)Wind Speed                                5 to 15 Km/hr                                                       50 to 60 Km/hr\n",
    "5.)Wind Direction                           south-west, east                                                   southwest to southeast\n",
    "6.)Atmospheric Pressure                      1013.25 mb                                                           More higher or lower\n",
    "7.)Cloud Type                                  Cumulonimbus, stratus,\n",
    "                                                         cirrus Clouds                                              Cumulonimbus cloud\n",
    "8.)sun shine                                    Yes/No                                                                    No\n",
    "\n",
    "'''\n",
    "\n"
   ]
  },
  {
   "cell_type": "code",
   "execution_count": 38,
   "metadata": {},
   "outputs": [
    {
     "name": "stdout",
     "output_type": "stream",
     "text": [
      "10.6\n",
      "probability Precision of windspeed: 0.02075787027177176\n",
      "15.540000000000001\n",
      "probability Precision of Humidity: 0.0003988880271775569\n"
     ]
    }
   ],
   "source": [
    "import math\n",
    "import numpy\n",
    "import numpy as np\n",
    "from scipy.integrate import quad\n",
    "\n",
    "# formula : P(X >= a) = ∫[a, ∞] λ * e^(-λx) dx\n",
    "\n",
    "# Define the function to be integrated\n",
    "def exponential_function(x, λ):\n",
    "    return λ * np.exp(-λ * x)\n",
    "\n",
    "\n"
   ]
  },
  {
   "cell_type": "markdown",
   "metadata": {},
   "source": [
    "Dew Point\n",
    "\n",
    "The dew point is the temperature at which air becomes saturated with moisture, leading to the condensation of water vapor into liquid water, which can eventually form clouds and precipitation. \n",
    "\n",
    "Heavy rainfall typically occurs when there are strong upward air currents (lifting mechanisms) that cause the moist air to rise rapidly and cool quickly. As the air cools, it reaches its dew point, leading to the rapid condensation of water vapor into raindrops. If these conditions persist and are widespread, it can result in heavy rainfall.\n",
    "\n",
    "Dew Point=T− ((100−RH)/5)\n",
    "​\n",
    "T is the air temperature in degrees Celsius (°C).\n",
    "RH is the relative humidity as a percentage.\n",
    "\n",
    "Dewpoint of India is in average 20-25°C"
   ]
  },
  {
   "cell_type": "code",
   "execution_count": 53,
   "metadata": {},
   "outputs": [
    {
     "name": "stdout",
     "output_type": "stream",
     "text": [
      "10.6\n",
      "probability Precision of windspeed: 0.02075787027177176\n",
      "16.65\n",
      "probability Precision of Temperature: 0.0001641336022063781\n",
      "16.7175 68.8\n",
      "normal situation\n"
     ]
    }
   ],
   "source": [
    "import numpy as np\n",
    "from joblib import load \n",
    "\n",
    "model = load('D:\\cloudburst\\QuadraticDiscriminantAnalysis.pkl')\n",
    "x = np.array([[21.5,1017.3,76.,7.,12.,31.,5.,7.,0.,2.2]])\n",
    "x = x.reshape(1,-1)\n",
    "y = model.predict(x)\n",
    "\n",
    "data = pd.read_csv('data.csv')\n",
    "df = pd.DataFrame(data)\n",
    "\n",
    "if y[0] == 1:\n",
    "    lower_limit = 0.80\n",
    "\n",
    "    a = np.average(df['WindSpeed9am'][:10])\n",
    "    print(a)\n",
    "    # Perform the integration using quad() function\n",
    "    a_result, _ = quad(exponential_function, lower_limit, np.inf, args=(a,))\n",
    "    \n",
    "    print(\"probability Precision of windspeed:\", a_result*100)\n",
    "\n",
    "\n",
    "    b = np.average(df['Temp9am'][:10])\n",
    "    print(b)\n",
    "    # Perform the integration using quad() function\n",
    "    b_result, _ = quad(exponential_function, lower_limit, np.inf, args=(b,))\n",
    " \n",
    "    print(\"probability Precision of Temperature:\", b_result*100)\n",
    "    \n",
    "        \n",
    "    t = np.average(df['Temp9am'][:40])\n",
    "    rh = np.average(df['Humidity9am'][:40])\n",
    "    print(t,rh)\n",
    "\n",
    "    dew = t-((100-rh)/5)\n",
    "    \n",
    "    if(a_result > 0.5 or b_result > 0.5) and dew > 25:\n",
    "        print('clouburst is forming')\n",
    "    \n",
    "    else:\n",
    "        print(\"normal situation\")"
   ]
  }
 ],
 "metadata": {
  "kernelspec": {
   "display_name": "pyt",
   "language": "python",
   "name": "python3"
  },
  "language_info": {
   "codemirror_mode": {
    "name": "ipython",
    "version": 3
   },
   "file_extension": ".py",
   "mimetype": "text/x-python",
   "name": "python",
   "nbconvert_exporter": "python",
   "pygments_lexer": "ipython3",
   "version": "3.10.9"
  },
  "orig_nbformat": 4
 },
 "nbformat": 4,
 "nbformat_minor": 2
}
